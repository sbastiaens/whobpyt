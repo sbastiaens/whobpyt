{
 "cells": [
  {
   "cell_type": "code",
   "execution_count": 53,
   "id": "973ab222",
   "metadata": {},
   "outputs": [
    {
     "ename": "ModuleNotFoundError",
     "evalue": "No module named 'whobpyt.datatypes'",
     "output_type": "error",
     "traceback": [
      "\u001b[1;31m---------------------------------------------------------------------------\u001b[0m",
      "\u001b[1;31mModuleNotFoundError\u001b[0m                       Traceback (most recent call last)",
      "Input \u001b[1;32mIn [53]\u001b[0m, in \u001b[0;36m<cell line: 8>\u001b[1;34m()\u001b[0m\n\u001b[0;32m      6\u001b[0m \u001b[38;5;66;03m# whobpyt stuff\u001b[39;00m\n\u001b[0;32m      7\u001b[0m \u001b[38;5;28;01mimport\u001b[39;00m \u001b[38;5;21;01mwhobpyt\u001b[39;00m\n\u001b[1;32m----> 8\u001b[0m \u001b[38;5;28;01mfrom\u001b[39;00m \u001b[38;5;21;01mwhobpyt\u001b[39;00m\u001b[38;5;21;01m.\u001b[39;00m\u001b[38;5;21;01mdatatypes\u001b[39;00m \u001b[38;5;28;01mimport\u001b[39;00m par, Recording\n\u001b[0;32m      9\u001b[0m \u001b[38;5;28;01mfrom\u001b[39;00m \u001b[38;5;21;01mwhobpyt\u001b[39;00m\u001b[38;5;21;01m.\u001b[39;00m\u001b[38;5;21;01mmodels\u001b[39;00m\u001b[38;5;21;01m.\u001b[39;00m\u001b[38;5;21;01mJansenRit\u001b[39;00m \u001b[38;5;28;01mimport\u001b[39;00m RNNJANSEN, ParamsJR, JansenRit_np\n\u001b[0;32m     10\u001b[0m \u001b[38;5;28;01mfrom\u001b[39;00m \u001b[38;5;21;01mwhobpyt\u001b[39;00m\u001b[38;5;21;01m.\u001b[39;00m\u001b[38;5;21;01moptimization\u001b[39;00m\u001b[38;5;21;01m.\u001b[39;00m\u001b[38;5;21;01mcustom_cost_JR\u001b[39;00m \u001b[38;5;28;01mimport\u001b[39;00m CostsJR\n",
      "\u001b[1;31mModuleNotFoundError\u001b[0m: No module named 'whobpyt.datatypes'"
     ]
    }
   ],
   "source": [
    "# os stuff\n",
    "import os\n",
    "os.chdir('/Users/sorenza_bastiaens/Documents/github/whobpyt')\n",
    "import sys\n",
    "sys.path.append('/Users/sorenza_bastiaens/Documents/github/whobpyt')\n",
    "# whobpyt stuff\n",
    "import whobpyt\n",
    "from whobpyt.datatypes import par, Recording\n",
    "from whobpyt.models.JansenRit import RNNJANSEN, ParamsJR, JansenRit_np\n",
    "from whobpyt.optimization.custom_cost_JR import CostsJR\n",
    "from whobpyt.run import Model_fitting\n",
    "\n",
    "# array and pd stuff\n",
    "import numpy as np\n",
    "import pandas as pd\n",
    "import scipy.io\n",
    "\n",
    "\n",
    "# viz stuff\n",
    "import matplotlib.pyplot as plt\n",
    "\n",
    "#gdown\n",
    "import gdown\n",
    "# %%\n",
    "# define destination path and download data\n",
    "des_dir = '../'\n",
    "if not os.path.exists(des_dir):\n",
    "    os.makedirs(des_dir)  # create folder if it does not exist\n",
    "url = 'https://drive.google.com/drive/folders/1uXrtehuMlLBvPCV8zDaUYxF-MoMaD0fk'\n",
    "os.chdir(des_dir)\n",
    "gdown.download_folder(url, quiet = True, use_cookies = False)\n",
    "os.chdir('examples/')\n",
    "\n",
    "\n",
    "# %%\n",
    "# get  EEG data\n",
    "base_dir = '../Tepit/'\n",
    "eeg_file = base_dir + 'eeg_data.npy'\n",
    "eeg_data_all = np.load(eeg_file)\n",
    "eeg_data = eeg_data_all.mean(0) \n",
    "\n",
    "eeg_data = eeg_data[:,700:1100] / 12\n",
    "\n",
    "# %%\n",
    "# get stimulus weights on regions\n",
    "ki0 =np.loadtxt(base_dir + 'stim_weights.txt')[:,np.newaxis]\n",
    "\n",
    "# %%\n",
    "# get SC and distance template\n",
    "sc_file = base_dir + 'Schaefer2018_200Parcels_7Networks_count.csv'\n",
    "dist_file = base_dir + 'Schaefer2018_200Parcels_7Networks_distance.csv'\n",
    "sc_df = pd.read_csv(sc_file, header=None, sep=' ')\n",
    "sc = sc_df.values\n",
    "dist_df = pd.read_csv(dist_file, header=None, sep=' ')\n",
    "dist = dist_df.values\n",
    "sc = np.log1p(sc) / np.linalg.norm(np.log1p(sc))\n",
    "\n",
    "# %%\n",
    "# define options for JR model\n",
    "node_size = sc.shape[0]\n",
    "\n",
    "output_size = eeg_data.shape[0]\n",
    "TPperWindow = 20\n",
    "step_size = 0.0001\n",
    "num_epochs = 20\n",
    "tr = 0.001\n",
    "state_size = 6\n",
    "base_batch_num = 200\n",
    "time_dim = 400\n",
    "state_size = 6\n",
    "base_batch_num = 20\n",
    "hidden_size = int(tr/step_size)\n",
    "\n",
    "\n",
    "# %%\n",
    "# prepare data structure of the model\n",
    "print(eeg_data.shape)\n",
    "EEGstep = tr\n",
    "data_mean = Recording(eeg_data, EEGstep) #dataloader(eeg_data.T, num_epochs, batch_size)\n",
    "\n",
    "# %%\n",
    "# get model parameters structure and define the fitted parameters by setting non-zero variance for the model\n",
    "lm = np.zeros((output_size,200))\n",
    "lm_v = np.zeros((output_size,200))\n",
    "params = ParamsJR(A = par(3.25), a= par(100,100, 2, True, True), B = par(22), b = par(50, 50, 1, True, True), g=par(40,40,2, True, True), g_f=par(1), g_b=par(1), \\\n",
    "                  c1 = par(135, 135, 1, True, True), c2 = par(135*0.8, 135*0.8, 1, True, True), c3 = par(135*0.25, 135*0.25, 1, True, True), c4 = par(135*0.25, 135*0.25, 1, True, True),\\\n",
    "                  std_in= par(1,1, 1/10, True, True), vmax= par(5), v0=par(6), r=par(0.56), y0=par(2, 2, 1/4, True, True),\\\n",
    "                  mu = par(1., 1., 0.4, True, True), #k = [10, .3],\n",
    "                  #cy0 = [5, 0], ki=[ki0, 0], k_aud=[k_aud0, 0], lm=[lm, 1.0 * np.ones((output_size, 200))+lm_v], \\\n",
    "                  cy0 = par(50, 50, 1, True, True), ki=par(ki0), lm=par(lm, lm, 5 * np.ones((output_size, node_size))+lm_v, True, True))\n",
    "\n",
    "# %%\n",
    "# call model want to fit\n",
    "model = RNNJANSEN(node_size, TPperWindow, step_size, output_size, tr, sc, lm, dist, True, False, params)\n",
    "\n",
    "# %%\n",
    "# create objective function\n",
    "ObjFun = CostsJR()\n",
    "\n",
    "# %%\n",
    "# call model fit\n",
    "F = Model_fitting(model, ObjFun)\n",
    "\n",
    "# %%\n",
    "# Model Training\n",
    "# ---------------------------------------------------\n",
    "#\n",
    "u = np.zeros((node_size,hidden_size,time_dim))\n",
    "u[:,:,110:120]= 200\n",
    "F.train(u = u, empRecs = [data_mean], num_epochs = num_epochs, TPperWindow = TPperWindow)\n",
    "\n",
    "# %%\n",
    "# Plots of loss over Training\n",
    "plt.plot(np.arange(1,len(F.trainingStats.loss)+1), F.trainingStats.loss)\n",
    "plt.title(\"Total Loss over Training Epochs\")\n",
    "\n",
    "# %%\n",
    "# Plots of parameter values over Training\n",
    "plt.plot(F.trainingStats.fit_params['a'], label = \"a\")\n",
    "plt.plot(F.trainingStats.fit_params['b'], label = \"b\")\n",
    "plt.plot(F.trainingStats.fit_params['c1'], label = \"c1\")\n",
    "plt.plot(F.trainingStats.fit_params['c2'], label = \"c2\")\n",
    "plt.plot(F.trainingStats.fit_params['c3'], label = \"c3\")\n",
    "plt.plot(F.trainingStats.fit_params['c4'], label = \"c4\")\n",
    "plt.legend()\n",
    "plt.title(\"Select Variables Changing Over Training Epochs\")\n",
    "\n",
    "# %%\n",
    "# Model Evaluation (with 20 window for warmup)\n",
    "# ---------------------------------------------------\n",
    "#\n",
    "F.evaluate(u = u, empRec = data_mean, TPperWindow = TPperWindow, base_window_num = 20)\n",
    "\n",
    "# %%\n",
    "# Plot SC and fitted SC\n",
    "fig, ax = plt.subplots(1, 2, figsize=(5, 4))\n",
    "im0 = ax[0].imshow(sc, cmap='bwr', vmin = 0.0, vmax = 0.02)\n",
    "ax[0].set_title('The empirical SC')\n",
    "fig.colorbar(im0, ax=ax[0], fraction=0.046, pad=0.04)\n",
    "im1 = ax[1].imshow(F.model.sc_fitted.detach().numpy(), cmap='bwr', vmin = 0.0, vmax = 0.02)\n",
    "ax[1].set_title('The fitted SC')\n",
    "fig.colorbar(im1, ax=ax[1], fraction=0.046, pad=0.04)\n",
    "plt.show()\n",
    "\n",
    "# %%\n",
    "# Plot the EEG\n",
    "fig, ax = plt.subplots(1,3, figsize=(12,8))\n",
    "ax[0].plot(F.lastRec['P'].npTS().T)\n",
    "ax[0].set_title('Test: sourced EEG')\n",
    "ax[1].plot(F.lastRec[\"eeg\"].npTS().T)\n",
    "ax[1].set_title('Test')\n",
    "ax[2].plot(eeg_data.T)\n",
    "ax[2].set_title('empirical')\n",
    "plt.show()\n",
    "\n",
    "# %%\n",
    "# Modified JR Validation Model\n",
    "# ---------------------------------------------------\n",
    "#\n",
    "# The modified JR model\n",
    "\n",
    "val_sim_len = 20*1000 # Simulation length in msecs\n",
    "model_validate = JansenRit_np(model.node_size, model.step_size, model.output_size, model.sc, model.lm, model.dist, model.params)\n",
    "\n",
    "state_hist, hE = model_validate.forward(external = 0, hx = model_validate.createIC(ver = 0), hE = 0)\n",
    "\n",
    "# %%\n",
    "# Plot the EEG\n",
    "plt.figure(figsize = (16, 8))\n",
    "plt.title(\"E-I and M\")\n",
    "for n in range(model.num_regions):\n",
    "    plt.plot(state_hist['eeg'], label = \"E-I Node = \" + str(n)) # Plotting EEG window\n",
    "    plt.plot(state_hist['E'] - state_hist['I'], label = \"EEG Node = \" + str(n)) # plotting E-I\n",
    "\n",
    "plt.xlabel('Time Steps (multiply by step_size to get msec), step_size = ' + str(step_size))\n",
    "plt.legend()"
   ]
  },
  {
   "cell_type": "code",
   "execution_count": 49,
   "id": "1924c09b",
   "metadata": {},
   "outputs": [
    {
     "name": "stdout",
     "output_type": "stream",
     "text": [
      "C:\\Users\\sorenza_bastiaens\\Documents\\github\\whobpyt\n"
     ]
    }
   ],
   "source": [
    "cd \\Users\\sorenza_bastiaens\\Documents\\github\\whobpyt"
   ]
  },
  {
   "cell_type": "code",
   "execution_count": 50,
   "id": "b7b0695b",
   "metadata": {},
   "outputs": [
    {
     "data": {
      "text/plain": [
       "'C:\\\\Users\\\\sorenza_bastiaens\\\\Documents\\\\github\\\\whobpyt'"
      ]
     },
     "execution_count": 50,
     "metadata": {},
     "output_type": "execute_result"
    }
   ],
   "source": [
    "pwd"
   ]
  },
  {
   "cell_type": "code",
   "execution_count": 37,
   "id": "d8d49d8e",
   "metadata": {},
   "outputs": [
    {
     "ename": "ModuleNotFoundError",
     "evalue": "No module named 'whobpyt.models.JansenRit'; 'whobpyt.models' is not a package",
     "output_type": "error",
     "traceback": [
      "\u001b[1;31m---------------------------------------------------------------------------\u001b[0m",
      "\u001b[1;31mModuleNotFoundError\u001b[0m                       Traceback (most recent call last)",
      "Input \u001b[1;32mIn [37]\u001b[0m, in \u001b[0;36m<cell line: 1>\u001b[1;34m()\u001b[0m\n\u001b[1;32m----> 1\u001b[0m \u001b[38;5;28;01mfrom\u001b[39;00m \u001b[38;5;21;01mwhobpyt\u001b[39;00m\u001b[38;5;21;01m.\u001b[39;00m\u001b[38;5;21;01mmodels\u001b[39;00m\u001b[38;5;21;01m.\u001b[39;00m\u001b[38;5;21;01mJansenRit\u001b[39;00m \u001b[38;5;28;01mimport\u001b[39;00m RNNJANSEN, ParamsJR, JansenRit_np\n",
      "\u001b[1;31mModuleNotFoundError\u001b[0m: No module named 'whobpyt.models.JansenRit'; 'whobpyt.models' is not a package"
     ]
    }
   ],
   "source": [
    "from whobpyt.models.JansenRit import RNNJANSEN, ParamsJR, JansenRit_np\n"
   ]
  },
  {
   "cell_type": "code",
   "execution_count": 43,
   "id": "c218976c",
   "metadata": {},
   "outputs": [
    {
     "name": "stdout",
     "output_type": "stream",
     "text": [
      "C:\\Users\\sorenza_bastiaens\\Documents\\github\\whobpyt\\whobpyt\n"
     ]
    }
   ],
   "source": [
    "cd whobpyt"
   ]
  },
  {
   "cell_type": "code",
   "execution_count": 39,
   "id": "3ecf8dff",
   "metadata": {},
   "outputs": [
    {
     "ename": "AttributeError",
     "evalue": "module 'whobpyt.models' has no attribute 'JansenRit'",
     "output_type": "error",
     "traceback": [
      "\u001b[1;31m---------------------------------------------------------------------------\u001b[0m",
      "\u001b[1;31mAttributeError\u001b[0m                            Traceback (most recent call last)",
      "Input \u001b[1;32mIn [39]\u001b[0m, in \u001b[0;36m<cell line: 1>\u001b[1;34m()\u001b[0m\n\u001b[1;32m----> 1\u001b[0m \u001b[43mwhobpyt\u001b[49m\u001b[38;5;241;43m.\u001b[39;49m\u001b[43mmodels\u001b[49m\u001b[38;5;241;43m.\u001b[39;49m\u001b[43mJansenRit\u001b[49m\u001b[38;5;241m.\u001b[39mParamsJR\n",
      "\u001b[1;31mAttributeError\u001b[0m: module 'whobpyt.models' has no attribute 'JansenRit'"
     ]
    }
   ],
   "source": [
    "whobpyt.models.JansenRit.ParamsJR"
   ]
  },
  {
   "cell_type": "code",
   "execution_count": 44,
   "id": "1913eaa2",
   "metadata": {},
   "outputs": [
    {
     "ename": "ModuleNotFoundError",
     "evalue": "No module named 'whobpyt.datatypes'",
     "output_type": "error",
     "traceback": [
      "\u001b[1;31m---------------------------------------------------------------------------\u001b[0m",
      "\u001b[1;31mModuleNotFoundError\u001b[0m                       Traceback (most recent call last)",
      "Input \u001b[1;32mIn [44]\u001b[0m, in \u001b[0;36m<cell line: 1>\u001b[1;34m()\u001b[0m\n\u001b[1;32m----> 1\u001b[0m \u001b[38;5;28;01mimport\u001b[39;00m \u001b[38;5;21;01mwhobpyt\u001b[39;00m\u001b[38;5;21;01m.\u001b[39;00m\u001b[38;5;21;01mdatatypes\u001b[39;00m\n",
      "\u001b[1;31mModuleNotFoundError\u001b[0m: No module named 'whobpyt.datatypes'"
     ]
    }
   ],
   "source": [
    "import whobpyt.datatypes"
   ]
  },
  {
   "cell_type": "code",
   "execution_count": 47,
   "id": "bd960b84",
   "metadata": {},
   "outputs": [],
   "source": [
    "from scipy.signal import welch"
   ]
  },
  {
   "cell_type": "code",
   "execution_count": 54,
   "id": "9d09f87e",
   "metadata": {},
   "outputs": [
    {
     "name": "stdout",
     "output_type": "stream",
     "text": [
      "C:\\Users\\sorenza_bastiaens\\Documents\\github\\whobpyt\\whobpyt\n"
     ]
    }
   ],
   "source": [
    "cd whobpyt\n"
   ]
  },
  {
   "cell_type": "code",
   "execution_count": 55,
   "id": "d5063e58",
   "metadata": {},
   "outputs": [
    {
     "ename": "ModuleNotFoundError",
     "evalue": "No module named 'whobpyt.datatypes'",
     "output_type": "error",
     "traceback": [
      "\u001b[1;31m---------------------------------------------------------------------------\u001b[0m",
      "\u001b[1;31mModuleNotFoundError\u001b[0m                       Traceback (most recent call last)",
      "Input \u001b[1;32mIn [55]\u001b[0m, in \u001b[0;36m<cell line: 1>\u001b[1;34m()\u001b[0m\n\u001b[1;32m----> 1\u001b[0m \u001b[38;5;28;01mfrom\u001b[39;00m \u001b[38;5;21;01mdatatypes\u001b[39;00m \u001b[38;5;28;01mimport\u001b[39;00m par\n",
      "File \u001b[1;32m~\\Documents\\github\\whobpyt\\whobpyt\\datatypes\\__init__.py:4\u001b[0m, in \u001b[0;36m<module>\u001b[1;34m\u001b[0m\n\u001b[0;32m      2\u001b[0m \u001b[38;5;28;01mfrom\u001b[39;00m \u001b[38;5;21;01m.\u001b[39;00m\u001b[38;5;21;01mAbstractMode\u001b[39;00m \u001b[38;5;28;01mimport\u001b[39;00m AbstractMode\n\u001b[0;32m      3\u001b[0m \u001b[38;5;28;01mfrom\u001b[39;00m \u001b[38;5;21;01m.\u001b[39;00m\u001b[38;5;21;01mAbstractNMM\u001b[39;00m \u001b[38;5;28;01mimport\u001b[39;00m AbstractNMM\n\u001b[1;32m----> 4\u001b[0m \u001b[38;5;28;01mfrom\u001b[39;00m \u001b[38;5;21;01m.\u001b[39;00m\u001b[38;5;21;01mAbstractParams\u001b[39;00m \u001b[38;5;28;01mimport\u001b[39;00m AbstractParams\n\u001b[0;32m      6\u001b[0m \u001b[38;5;28;01mfrom\u001b[39;00m \u001b[38;5;21;01m.\u001b[39;00m\u001b[38;5;21;01mparameter\u001b[39;00m \u001b[38;5;28;01mimport\u001b[39;00m par\n\u001b[0;32m      7\u001b[0m \u001b[38;5;28;01mfrom\u001b[39;00m \u001b[38;5;21;01m.\u001b[39;00m\u001b[38;5;21;01mtimeseries\u001b[39;00m \u001b[38;5;28;01mimport\u001b[39;00m Recording\n",
      "File \u001b[1;32m~\\Documents\\github\\whobpyt\\whobpyt\\datatypes\\AbstractParams.py:2\u001b[0m, in \u001b[0;36m<module>\u001b[1;34m\u001b[0m\n\u001b[0;32m      1\u001b[0m \u001b[38;5;28;01mimport\u001b[39;00m \u001b[38;5;21;01mtorch\u001b[39;00m\n\u001b[1;32m----> 2\u001b[0m \u001b[38;5;28;01mfrom\u001b[39;00m \u001b[38;5;21;01mwhobpyt\u001b[39;00m\u001b[38;5;21;01m.\u001b[39;00m\u001b[38;5;21;01mdatatypes\u001b[39;00m\u001b[38;5;21;01m.\u001b[39;00m\u001b[38;5;21;01mparameter\u001b[39;00m \u001b[38;5;28;01mimport\u001b[39;00m par\n\u001b[0;32m      4\u001b[0m \u001b[38;5;28;01mclass\u001b[39;00m \u001b[38;5;21;01mAbstractParams\u001b[39;00m:\n\u001b[0;32m      6\u001b[0m     \u001b[38;5;28;01mdef\u001b[39;00m \u001b[38;5;21m__init__\u001b[39m(\u001b[38;5;28mself\u001b[39m, \u001b[38;5;241m*\u001b[39m\u001b[38;5;241m*\u001b[39mkwargs):\n\u001b[0;32m      7\u001b[0m         \u001b[38;5;66;03m# Define the parameters using the par data structure\u001b[39;00m\n",
      "\u001b[1;31mModuleNotFoundError\u001b[0m: No module named 'whobpyt.datatypes'"
     ]
    }
   ],
   "source": [
    "from datatypes import par"
   ]
  },
  {
   "cell_type": "code",
   "execution_count": 60,
   "id": "6c8bc81e",
   "metadata": {},
   "outputs": [
    {
     "name": "stdout",
     "output_type": "stream",
     "text": [
      "C:\\Users\\sorenza_bastiaens\\Documents\\github\\whobpyt\n"
     ]
    }
   ],
   "source": [
    "cd .."
   ]
  },
  {
   "cell_type": "code",
   "execution_count": 57,
   "id": "5c1978a5",
   "metadata": {},
   "outputs": [
    {
     "ename": "ModuleNotFoundError",
     "evalue": "No module named 'whobpyt.datatypes'",
     "output_type": "error",
     "traceback": [
      "\u001b[1;31m---------------------------------------------------------------------------\u001b[0m",
      "\u001b[1;31mModuleNotFoundError\u001b[0m                       Traceback (most recent call last)",
      "Input \u001b[1;32mIn [57]\u001b[0m, in \u001b[0;36m<cell line: 1>\u001b[1;34m()\u001b[0m\n\u001b[1;32m----> 1\u001b[0m \u001b[38;5;28;01mfrom\u001b[39;00m \u001b[38;5;21;01mdatatypes\u001b[39;00m \u001b[38;5;28;01mimport\u001b[39;00m par\n",
      "File \u001b[1;32m~\\Documents\\github\\whobpyt\\whobpyt\\datatypes\\__init__.py:4\u001b[0m, in \u001b[0;36m<module>\u001b[1;34m\u001b[0m\n\u001b[0;32m      2\u001b[0m \u001b[38;5;28;01mfrom\u001b[39;00m \u001b[38;5;21;01m.\u001b[39;00m\u001b[38;5;21;01mAbstractMode\u001b[39;00m \u001b[38;5;28;01mimport\u001b[39;00m AbstractMode\n\u001b[0;32m      3\u001b[0m \u001b[38;5;28;01mfrom\u001b[39;00m \u001b[38;5;21;01m.\u001b[39;00m\u001b[38;5;21;01mAbstractNMM\u001b[39;00m \u001b[38;5;28;01mimport\u001b[39;00m AbstractNMM\n\u001b[1;32m----> 4\u001b[0m \u001b[38;5;28;01mfrom\u001b[39;00m \u001b[38;5;21;01m.\u001b[39;00m\u001b[38;5;21;01mAbstractParams\u001b[39;00m \u001b[38;5;28;01mimport\u001b[39;00m AbstractParams\n\u001b[0;32m      6\u001b[0m \u001b[38;5;28;01mfrom\u001b[39;00m \u001b[38;5;21;01m.\u001b[39;00m\u001b[38;5;21;01mparameter\u001b[39;00m \u001b[38;5;28;01mimport\u001b[39;00m par\n\u001b[0;32m      7\u001b[0m \u001b[38;5;28;01mfrom\u001b[39;00m \u001b[38;5;21;01m.\u001b[39;00m\u001b[38;5;21;01mtimeseries\u001b[39;00m \u001b[38;5;28;01mimport\u001b[39;00m Recording\n",
      "File \u001b[1;32m~\\Documents\\github\\whobpyt\\whobpyt\\datatypes\\AbstractParams.py:2\u001b[0m, in \u001b[0;36m<module>\u001b[1;34m\u001b[0m\n\u001b[0;32m      1\u001b[0m \u001b[38;5;28;01mimport\u001b[39;00m \u001b[38;5;21;01mtorch\u001b[39;00m\n\u001b[1;32m----> 2\u001b[0m \u001b[38;5;28;01mfrom\u001b[39;00m \u001b[38;5;21;01mwhobpyt\u001b[39;00m\u001b[38;5;21;01m.\u001b[39;00m\u001b[38;5;21;01mdatatypes\u001b[39;00m\u001b[38;5;21;01m.\u001b[39;00m\u001b[38;5;21;01mparameter\u001b[39;00m \u001b[38;5;28;01mimport\u001b[39;00m par\n\u001b[0;32m      4\u001b[0m \u001b[38;5;28;01mclass\u001b[39;00m \u001b[38;5;21;01mAbstractParams\u001b[39;00m:\n\u001b[0;32m      6\u001b[0m     \u001b[38;5;28;01mdef\u001b[39;00m \u001b[38;5;21m__init__\u001b[39m(\u001b[38;5;28mself\u001b[39m, \u001b[38;5;241m*\u001b[39m\u001b[38;5;241m*\u001b[39mkwargs):\n\u001b[0;32m      7\u001b[0m         \u001b[38;5;66;03m# Define the parameters using the par data structure\u001b[39;00m\n",
      "\u001b[1;31mModuleNotFoundError\u001b[0m: No module named 'whobpyt.datatypes'"
     ]
    }
   ],
   "source": [
    "from datatypes import par"
   ]
  },
  {
   "cell_type": "code",
   "execution_count": 61,
   "id": "9140b37f",
   "metadata": {},
   "outputs": [
    {
     "name": "stdout",
     "output_type": "stream",
     "text": [
      "Obtaining file:///C:/Users/sorenza_bastiaens/Documents/github/whobpyt\n",
      "Requirement already satisfied: pandas in c:\\users\\sorenza_bastiaens\\anaconda3\\envs\\whobpyt\\lib\\site-packages (from whobpyt==0.0) (1.4.2)\n",
      "Requirement already satisfied: matplotlib in c:\\users\\sorenza_bastiaens\\anaconda3\\envs\\whobpyt\\lib\\site-packages (from whobpyt==0.0) (3.5.2)\n",
      "Requirement already satisfied: seaborn in c:\\users\\sorenza_bastiaens\\anaconda3\\envs\\whobpyt\\lib\\site-packages (from whobpyt==0.0) (0.11.2)\n",
      "Requirement already satisfied: h5py in c:\\users\\sorenza_bastiaens\\anaconda3\\envs\\whobpyt\\lib\\site-packages (from whobpyt==0.0) (3.7.0)\n",
      "Requirement already satisfied: pooch in c:\\users\\sorenza_bastiaens\\anaconda3\\envs\\whobpyt\\lib\\site-packages (from whobpyt==0.0) (1.6.0)\n",
      "Requirement already satisfied: torch in c:\\users\\sorenza_bastiaens\\anaconda3\\envs\\whobpyt\\lib\\site-packages (from whobpyt==0.0) (1.11.0)\n",
      "Requirement already satisfied: scikit-learn in c:\\users\\sorenza_bastiaens\\anaconda3\\envs\\whobpyt\\lib\\site-packages (from whobpyt==0.0) (1.1.1)\n",
      "Requirement already satisfied: mne in c:\\users\\sorenza_bastiaens\\anaconda3\\envs\\whobpyt\\lib\\site-packages (from whobpyt==0.0) (1.0.3)\n",
      "Requirement already satisfied: sphinx in c:\\users\\sorenza_bastiaens\\anaconda3\\envs\\whobpyt\\lib\\site-packages (from whobpyt==0.0) (3.5.4)\n",
      "Requirement already satisfied: sphinx-gallery==0.8.1 in c:\\users\\sorenza_bastiaens\\anaconda3\\envs\\whobpyt\\lib\\site-packages (from whobpyt==0.0) (0.8.1)\n",
      "Requirement already satisfied: sphinx_rtd_theme==0.5.0 in c:\\users\\sorenza_bastiaens\\anaconda3\\envs\\whobpyt\\lib\\site-packages (from whobpyt==0.0) (0.5.0)\n",
      "Requirement already satisfied: sphinx-tabs==1.3.0 in c:\\users\\sorenza_bastiaens\\anaconda3\\envs\\whobpyt\\lib\\site-packages (from whobpyt==0.0) (1.3.0)\n",
      "Requirement already satisfied: sphinx-copybutton==0.3.1 in c:\\users\\sorenza_bastiaens\\anaconda3\\envs\\whobpyt\\lib\\site-packages (from whobpyt==0.0) (0.3.1)\n",
      "Requirement already satisfied: numpydoc==1.1.0 in c:\\users\\sorenza_bastiaens\\anaconda3\\envs\\whobpyt\\lib\\site-packages (from whobpyt==0.0) (1.1.0)\n",
      "Requirement already satisfied: recommonmark==0.6.0 in c:\\users\\sorenza_bastiaens\\anaconda3\\envs\\whobpyt\\lib\\site-packages (from whobpyt==0.0) (0.6.0)\n",
      "Requirement already satisfied: versioneer==0.19 in c:\\users\\sorenza_bastiaens\\anaconda3\\envs\\whobpyt\\lib\\site-packages (from whobpyt==0.0) (0.19)\n",
      "Requirement already satisfied: rst2pdf==0.98 in c:\\users\\sorenza_bastiaens\\anaconda3\\envs\\whobpyt\\lib\\site-packages (from whobpyt==0.0) (0.98)\n",
      "Requirement already satisfied: pyyaml in c:\\users\\sorenza_bastiaens\\appdata\\roaming\\python\\python39\\site-packages (from whobpyt==0.0) (6.0)\n",
      "Requirement already satisfied: nbsphinx in c:\\users\\sorenza_bastiaens\\anaconda3\\envs\\whobpyt\\lib\\site-packages (from whobpyt==0.0) (0.8.8)\n",
      "Requirement already satisfied: jupyter in c:\\users\\sorenza_bastiaens\\anaconda3\\envs\\whobpyt\\lib\\site-packages (from whobpyt==0.0) (1.0.0)\n",
      "Requirement already satisfied: ipykernel in c:\\users\\sorenza_bastiaens\\anaconda3\\envs\\whobpyt\\lib\\site-packages (from whobpyt==0.0) (6.13.0)\n",
      "Requirement already satisfied: jupyter-alabaster-theme in c:\\users\\sorenza_bastiaens\\anaconda3\\envs\\whobpyt\\lib\\site-packages (from whobpyt==0.0) (0.4.0)\n",
      "Requirement already satisfied: gdown in c:\\users\\sorenza_bastiaens\\anaconda3\\envs\\whobpyt\\lib\\site-packages (from whobpyt==0.0) (4.4.0)\n",
      "Collecting jinja2<3.1\n",
      "  Using cached Jinja2-3.0.3-py3-none-any.whl (133 kB)\n",
      "Requirement already satisfied: mypy in c:\\users\\sorenza_bastiaens\\anaconda3\\envs\\whobpyt\\lib\\site-packages (from whobpyt==0.0) (0.960)\n",
      "Requirement already satisfied: pytest in c:\\users\\sorenza_bastiaens\\anaconda3\\envs\\whobpyt\\lib\\site-packages (from whobpyt==0.0) (7.1.2)\n",
      "Requirement already satisfied: pytest-cov in c:\\users\\sorenza_bastiaens\\anaconda3\\envs\\whobpyt\\lib\\site-packages (from whobpyt==0.0) (3.0.0)\n",
      "Requirement already satisfied: nbval in c:\\users\\sorenza_bastiaens\\anaconda3\\envs\\whobpyt\\lib\\site-packages (from whobpyt==0.0) (0.9.6)\n",
      "Requirement already satisfied: types-requests in c:\\users\\sorenza_bastiaens\\anaconda3\\envs\\whobpyt\\lib\\site-packages (from whobpyt==0.0) (2.27.29)\n",
      "Requirement already satisfied: docutils>=0.11 in c:\\users\\sorenza_bastiaens\\anaconda3\\envs\\whobpyt\\lib\\site-packages (from recommonmark==0.6.0->whobpyt==0.0) (0.16)\n",
      "Requirement already satisfied: commonmark>=0.8.1 in c:\\users\\sorenza_bastiaens\\anaconda3\\envs\\whobpyt\\lib\\site-packages (from recommonmark==0.6.0->whobpyt==0.0) (0.9.1)\n",
      "Requirement already satisfied: pygments in c:\\users\\sorenza_bastiaens\\anaconda3\\envs\\whobpyt\\lib\\site-packages (from rst2pdf==0.98->whobpyt==0.0) (2.12.0)\n",
      "Requirement already satisfied: reportlab in c:\\users\\sorenza_bastiaens\\anaconda3\\envs\\whobpyt\\lib\\site-packages (from rst2pdf==0.98->whobpyt==0.0) (3.6.9)\n",
      "Requirement already satisfied: smartypants in c:\\users\\sorenza_bastiaens\\anaconda3\\envs\\whobpyt\\lib\\site-packages (from rst2pdf==0.98->whobpyt==0.0) (2.0.1)\n",
      "Requirement already satisfied: packaging in c:\\users\\sorenza_bastiaens\\anaconda3\\envs\\whobpyt\\lib\\site-packages (from rst2pdf==0.98->whobpyt==0.0) (21.3)\n",
      "Requirement already satisfied: importlib-metadata in c:\\users\\sorenza_bastiaens\\anaconda3\\envs\\whobpyt\\lib\\site-packages (from rst2pdf==0.98->whobpyt==0.0) (4.11.4)\n",
      "Requirement already satisfied: MarkupSafe>=2.0 in c:\\users\\sorenza_bastiaens\\anaconda3\\envs\\whobpyt\\lib\\site-packages (from jinja2<3.1->whobpyt==0.0) (2.1.1)\n",
      "Requirement already satisfied: colorama>=0.3.5 in c:\\users\\sorenza_bastiaens\\anaconda3\\envs\\whobpyt\\lib\\site-packages (from sphinx->whobpyt==0.0) (0.4.4)\n",
      "Requirement already satisfied: sphinxcontrib-devhelp in c:\\users\\sorenza_bastiaens\\anaconda3\\envs\\whobpyt\\lib\\site-packages (from sphinx->whobpyt==0.0) (1.0.2)\n",
      "Requirement already satisfied: sphinxcontrib-applehelp in c:\\users\\sorenza_bastiaens\\anaconda3\\envs\\whobpyt\\lib\\site-packages (from sphinx->whobpyt==0.0) (1.0.2)\n",
      "Requirement already satisfied: setuptools in c:\\users\\sorenza_bastiaens\\anaconda3\\envs\\whobpyt\\lib\\site-packages (from sphinx->whobpyt==0.0) (61.2.0)\n",
      "Requirement already satisfied: sphinxcontrib-htmlhelp in c:\\users\\sorenza_bastiaens\\anaconda3\\envs\\whobpyt\\lib\\site-packages (from sphinx->whobpyt==0.0) (2.0.0)\n",
      "Requirement already satisfied: imagesize in c:\\users\\sorenza_bastiaens\\anaconda3\\envs\\whobpyt\\lib\\site-packages (from sphinx->whobpyt==0.0) (1.3.0)\n",
      "Requirement already satisfied: babel>=1.3 in c:\\users\\sorenza_bastiaens\\anaconda3\\envs\\whobpyt\\lib\\site-packages (from sphinx->whobpyt==0.0) (2.10.1)\n",
      "Requirement already satisfied: sphinxcontrib-qthelp in c:\\users\\sorenza_bastiaens\\anaconda3\\envs\\whobpyt\\lib\\site-packages (from sphinx->whobpyt==0.0) (1.0.3)\n",
      "Requirement already satisfied: requests>=2.5.0 in c:\\users\\sorenza_bastiaens\\anaconda3\\envs\\whobpyt\\lib\\site-packages (from sphinx->whobpyt==0.0) (2.27.1)\n",
      "Requirement already satisfied: snowballstemmer>=1.1 in c:\\users\\sorenza_bastiaens\\anaconda3\\envs\\whobpyt\\lib\\site-packages (from sphinx->whobpyt==0.0) (2.2.0)\n",
      "Requirement already satisfied: sphinxcontrib-serializinghtml in c:\\users\\sorenza_bastiaens\\anaconda3\\envs\\whobpyt\\lib\\site-packages (from sphinx->whobpyt==0.0) (1.1.5)\n",
      "Requirement already satisfied: alabaster<0.8,>=0.7 in c:\\users\\sorenza_bastiaens\\anaconda3\\envs\\whobpyt\\lib\\site-packages (from sphinx->whobpyt==0.0) (0.7.12)\n",
      "Requirement already satisfied: sphinxcontrib-jsmath in c:\\users\\sorenza_bastiaens\\anaconda3\\envs\\whobpyt\\lib\\site-packages (from sphinx->whobpyt==0.0) (1.0.1)\n",
      "Requirement already satisfied: pytz>=2015.7 in c:\\users\\sorenza_bastiaens\\anaconda3\\envs\\whobpyt\\lib\\site-packages (from babel>=1.3->sphinx->whobpyt==0.0) (2022.1)\n",
      "Requirement already satisfied: charset-normalizer~=2.0.0 in c:\\users\\sorenza_bastiaens\\anaconda3\\envs\\whobpyt\\lib\\site-packages (from requests>=2.5.0->sphinx->whobpyt==0.0) (2.0.12)\n",
      "Requirement already satisfied: certifi>=2017.4.17 in c:\\users\\sorenza_bastiaens\\anaconda3\\envs\\whobpyt\\lib\\site-packages (from requests>=2.5.0->sphinx->whobpyt==0.0) (2022.5.18.1)\n",
      "Requirement already satisfied: urllib3<1.27,>=1.21.1 in c:\\users\\sorenza_bastiaens\\anaconda3\\envs\\whobpyt\\lib\\site-packages (from requests>=2.5.0->sphinx->whobpyt==0.0) (1.26.9)\n",
      "Requirement already satisfied: idna<4,>=2.5 in c:\\users\\sorenza_bastiaens\\anaconda3\\envs\\whobpyt\\lib\\site-packages (from requests>=2.5.0->sphinx->whobpyt==0.0) (3.3)\n",
      "Requirement already satisfied: beautifulsoup4 in c:\\users\\sorenza_bastiaens\\appdata\\roaming\\python\\python39\\site-packages (from gdown->whobpyt==0.0) (4.12.2)\n",
      "Requirement already satisfied: filelock in c:\\users\\sorenza_bastiaens\\appdata\\roaming\\python\\python39\\site-packages (from gdown->whobpyt==0.0) (3.12.0)\n",
      "Requirement already satisfied: tqdm in c:\\users\\sorenza_bastiaens\\anaconda3\\envs\\whobpyt\\lib\\site-packages (from gdown->whobpyt==0.0) (4.64.0)\n",
      "Requirement already satisfied: six in c:\\users\\sorenza_bastiaens\\anaconda3\\envs\\whobpyt\\lib\\site-packages (from gdown->whobpyt==0.0) (1.16.0)\n",
      "Requirement already satisfied: soupsieve>1.2 in c:\\users\\sorenza_bastiaens\\anaconda3\\envs\\whobpyt\\lib\\site-packages (from beautifulsoup4->gdown->whobpyt==0.0) (2.3.2.post1)\n",
      "Requirement already satisfied: numpy>=1.14.5 in c:\\users\\sorenza_bastiaens\\anaconda3\\envs\\whobpyt\\lib\\site-packages (from h5py->whobpyt==0.0) (1.22.4)\n",
      "Requirement already satisfied: zipp>=0.5 in c:\\users\\sorenza_bastiaens\\anaconda3\\envs\\whobpyt\\lib\\site-packages (from importlib-metadata->rst2pdf==0.98->whobpyt==0.0) (3.8.0)\n",
      "Requirement already satisfied: psutil in c:\\users\\sorenza_bastiaens\\anaconda3\\envs\\whobpyt\\lib\\site-packages (from ipykernel->whobpyt==0.0) (5.9.1)\n",
      "Requirement already satisfied: traitlets>=5.1.0 in c:\\users\\sorenza_bastiaens\\anaconda3\\envs\\whobpyt\\lib\\site-packages (from ipykernel->whobpyt==0.0) (5.9.0)\n",
      "Requirement already satisfied: nest-asyncio in c:\\users\\sorenza_bastiaens\\anaconda3\\envs\\whobpyt\\lib\\site-packages (from ipykernel->whobpyt==0.0) (1.5.5)\n",
      "Requirement already satisfied: tornado>=6.1 in c:\\users\\sorenza_bastiaens\\anaconda3\\envs\\whobpyt\\lib\\site-packages (from ipykernel->whobpyt==0.0) (6.3.2)\n",
      "Requirement already satisfied: matplotlib-inline>=0.1 in c:\\users\\sorenza_bastiaens\\anaconda3\\envs\\whobpyt\\lib\\site-packages (from ipykernel->whobpyt==0.0) (0.1.3)\n",
      "Requirement already satisfied: jupyter-client>=6.1.12 in c:\\users\\sorenza_bastiaens\\anaconda3\\envs\\whobpyt\\lib\\site-packages (from ipykernel->whobpyt==0.0) (8.3.0)\n",
      "Requirement already satisfied: debugpy>=1.0 in c:\\users\\sorenza_bastiaens\\anaconda3\\envs\\whobpyt\\lib\\site-packages (from ipykernel->whobpyt==0.0) (1.6.0)\n",
      "Requirement already satisfied: ipython>=7.23.1 in c:\\users\\sorenza_bastiaens\\anaconda3\\envs\\whobpyt\\lib\\site-packages (from ipykernel->whobpyt==0.0) (8.3.0)\n",
      "Requirement already satisfied: jedi>=0.16 in c:\\users\\sorenza_bastiaens\\anaconda3\\envs\\whobpyt\\lib\\site-packages (from ipython>=7.23.1->ipykernel->whobpyt==0.0) (0.18.1)\n",
      "Requirement already satisfied: decorator in c:\\users\\sorenza_bastiaens\\anaconda3\\envs\\whobpyt\\lib\\site-packages (from ipython>=7.23.1->ipykernel->whobpyt==0.0) (5.1.1)\n",
      "Requirement already satisfied: stack-data in c:\\users\\sorenza_bastiaens\\anaconda3\\envs\\whobpyt\\lib\\site-packages (from ipython>=7.23.1->ipykernel->whobpyt==0.0) (0.2.0)\n",
      "Requirement already satisfied: prompt-toolkit!=3.0.0,!=3.0.1,<3.1.0,>=2.0.0 in c:\\users\\sorenza_bastiaens\\anaconda3\\envs\\whobpyt\\lib\\site-packages (from ipython>=7.23.1->ipykernel->whobpyt==0.0) (3.0.29)\n",
      "Requirement already satisfied: backcall in c:\\users\\sorenza_bastiaens\\anaconda3\\envs\\whobpyt\\lib\\site-packages (from ipython>=7.23.1->ipykernel->whobpyt==0.0) (0.2.0)\n",
      "Requirement already satisfied: pickleshare in c:\\users\\sorenza_bastiaens\\anaconda3\\envs\\whobpyt\\lib\\site-packages (from ipython>=7.23.1->ipykernel->whobpyt==0.0) (0.7.5)\n",
      "Requirement already satisfied: parso<0.9.0,>=0.8.0 in c:\\users\\sorenza_bastiaens\\anaconda3\\envs\\whobpyt\\lib\\site-packages (from jedi>=0.16->ipython>=7.23.1->ipykernel->whobpyt==0.0) (0.8.3)\n",
      "Requirement already satisfied: pyzmq>=23.0 in c:\\users\\sorenza_bastiaens\\anaconda3\\envs\\whobpyt\\lib\\site-packages (from jupyter-client>=6.1.12->ipykernel->whobpyt==0.0) (25.1.0)\n",
      "Requirement already satisfied: python-dateutil>=2.8.2 in c:\\users\\sorenza_bastiaens\\anaconda3\\envs\\whobpyt\\lib\\site-packages (from jupyter-client>=6.1.12->ipykernel->whobpyt==0.0) (2.8.2)\n",
      "Requirement already satisfied: jupyter-core!=5.0.*,>=4.12 in c:\\users\\sorenza_bastiaens\\anaconda3\\envs\\whobpyt\\lib\\site-packages (from jupyter-client>=6.1.12->ipykernel->whobpyt==0.0) (5.3.1)\n",
      "Requirement already satisfied: pywin32>=300 in c:\\users\\sorenza_bastiaens\\anaconda3\\envs\\whobpyt\\lib\\site-packages (from jupyter-core!=5.0.*,>=4.12->jupyter-client>=6.1.12->ipykernel->whobpyt==0.0) (304)\n",
      "Requirement already satisfied: platformdirs>=2.5 in c:\\users\\sorenza_bastiaens\\anaconda3\\envs\\whobpyt\\lib\\site-packages (from jupyter-core!=5.0.*,>=4.12->jupyter-client>=6.1.12->ipykernel->whobpyt==0.0) (3.8.0)\n",
      "Requirement already satisfied: wcwidth in c:\\users\\sorenza_bastiaens\\anaconda3\\envs\\whobpyt\\lib\\site-packages (from prompt-toolkit!=3.0.0,!=3.0.1,<3.1.0,>=2.0.0->ipython>=7.23.1->ipykernel->whobpyt==0.0) (0.2.5)\n",
      "Requirement already satisfied: nbconvert in c:\\users\\sorenza_bastiaens\\appdata\\roaming\\python\\python39\\site-packages (from jupyter->whobpyt==0.0) (7.3.1)\n",
      "Requirement already satisfied: jupyter-console in c:\\users\\sorenza_bastiaens\\anaconda3\\envs\\whobpyt\\lib\\site-packages (from jupyter->whobpyt==0.0) (6.4.3)\n",
      "Requirement already satisfied: notebook in c:\\users\\sorenza_bastiaens\\appdata\\roaming\\python\\python39\\site-packages (from jupyter->whobpyt==0.0) (6.5.4)\n",
      "Requirement already satisfied: ipywidgets in c:\\users\\sorenza_bastiaens\\anaconda3\\envs\\whobpyt\\lib\\site-packages (from jupyter->whobpyt==0.0) (7.7.0)\n",
      "Requirement already satisfied: qtconsole in c:\\users\\sorenza_bastiaens\\anaconda3\\envs\\whobpyt\\lib\\site-packages (from jupyter->whobpyt==0.0) (5.3.0)\n",
      "Requirement already satisfied: nbformat>=4.2.0 in c:\\users\\sorenza_bastiaens\\appdata\\roaming\\python\\python39\\site-packages (from ipywidgets->jupyter->whobpyt==0.0) (5.8.0)\n",
      "Requirement already satisfied: jupyterlab-widgets>=1.0.0 in c:\\users\\sorenza_bastiaens\\anaconda3\\envs\\whobpyt\\lib\\site-packages (from ipywidgets->jupyter->whobpyt==0.0) (1.1.0)\n",
      "Requirement already satisfied: widgetsnbextension~=3.6.0 in c:\\users\\sorenza_bastiaens\\anaconda3\\envs\\whobpyt\\lib\\site-packages (from ipywidgets->jupyter->whobpyt==0.0) (3.6.0)\n",
      "Requirement already satisfied: ipython-genutils~=0.2.0 in c:\\users\\sorenza_bastiaens\\anaconda3\\envs\\whobpyt\\lib\\site-packages (from ipywidgets->jupyter->whobpyt==0.0) (0.2.0)\n",
      "Requirement already satisfied: jsonschema>=2.6 in c:\\users\\sorenza_bastiaens\\appdata\\roaming\\python\\python39\\site-packages (from nbformat>=4.2.0->ipywidgets->jupyter->whobpyt==0.0) (4.17.3)\n",
      "Requirement already satisfied: fastjsonschema in c:\\users\\sorenza_bastiaens\\anaconda3\\envs\\whobpyt\\lib\\site-packages (from nbformat>=4.2.0->ipywidgets->jupyter->whobpyt==0.0) (2.15.3)\n",
      "Requirement already satisfied: pyrsistent!=0.17.0,!=0.17.1,!=0.17.2,>=0.14.0 in c:\\users\\sorenza_bastiaens\\appdata\\roaming\\python\\python39\\site-packages (from jsonschema>=2.6->nbformat>=4.2.0->ipywidgets->jupyter->whobpyt==0.0) (0.19.3)\n",
      "Requirement already satisfied: attrs>=17.4.0 in c:\\users\\sorenza_bastiaens\\appdata\\roaming\\python\\python39\\site-packages (from jsonschema>=2.6->nbformat>=4.2.0->ipywidgets->jupyter->whobpyt==0.0) (23.1.0)\n",
      "Requirement already satisfied: prometheus-client in c:\\users\\sorenza_bastiaens\\appdata\\roaming\\python\\python39\\site-packages (from notebook->jupyter->whobpyt==0.0) (0.16.0)\n",
      "Requirement already satisfied: argon2-cffi in c:\\users\\sorenza_bastiaens\\appdata\\roaming\\python\\python39\\site-packages (from notebook->jupyter->whobpyt==0.0) (21.3.0)\n",
      "Requirement already satisfied: Send2Trash>=1.8.0 in c:\\users\\sorenza_bastiaens\\anaconda3\\envs\\whobpyt\\lib\\site-packages (from notebook->jupyter->whobpyt==0.0) (1.8.0)\n",
      "Requirement already satisfied: nbclassic>=0.4.7 in c:\\users\\sorenza_bastiaens\\appdata\\roaming\\python\\python39\\site-packages (from notebook->jupyter->whobpyt==0.0) (0.5.6)\n",
      "Requirement already satisfied: terminado>=0.8.3 in c:\\users\\sorenza_bastiaens\\appdata\\roaming\\python\\python39\\site-packages (from notebook->jupyter->whobpyt==0.0) (0.17.1)\n",
      "Requirement already satisfied: notebook-shim>=0.2.3 in c:\\users\\sorenza_bastiaens\\appdata\\roaming\\python\\python39\\site-packages (from nbclassic>=0.4.7->notebook->jupyter->whobpyt==0.0) (0.2.3)\n",
      "Requirement already satisfied: jupyter-server>=1.8 in c:\\users\\sorenza_bastiaens\\appdata\\roaming\\python\\python39\\site-packages (from nbclassic>=0.4.7->notebook->jupyter->whobpyt==0.0) (2.5.0)\n",
      "Requirement already satisfied: jupyter-events>=0.4.0 in c:\\users\\sorenza_bastiaens\\appdata\\roaming\\python\\python39\\site-packages (from jupyter-server>=1.8->nbclassic>=0.4.7->notebook->jupyter->whobpyt==0.0) (0.6.3)\n",
      "Requirement already satisfied: jupyter-server-terminals in c:\\users\\sorenza_bastiaens\\appdata\\roaming\\python\\python39\\site-packages (from jupyter-server>=1.8->nbclassic>=0.4.7->notebook->jupyter->whobpyt==0.0) (0.4.4)\n",
      "Requirement already satisfied: websocket-client in c:\\users\\sorenza_bastiaens\\anaconda3\\envs\\whobpyt\\lib\\site-packages (from jupyter-server>=1.8->nbclassic>=0.4.7->notebook->jupyter->whobpyt==0.0) (1.6.1)\n",
      "Requirement already satisfied: pywinpty in c:\\users\\sorenza_bastiaens\\appdata\\roaming\\python\\python39\\site-packages (from jupyter-server>=1.8->nbclassic>=0.4.7->notebook->jupyter->whobpyt==0.0) (2.0.10)\n",
      "Requirement already satisfied: anyio>=3.1.0 in c:\\users\\sorenza_bastiaens\\appdata\\roaming\\python\\python39\\site-packages (from jupyter-server>=1.8->nbclassic>=0.4.7->notebook->jupyter->whobpyt==0.0) (3.6.2)\n",
      "Requirement already satisfied: sniffio>=1.1 in c:\\users\\sorenza_bastiaens\\anaconda3\\envs\\whobpyt\\lib\\site-packages (from anyio>=3.1.0->jupyter-server>=1.8->nbclassic>=0.4.7->notebook->jupyter->whobpyt==0.0) (1.3.0)\n",
      "Requirement already satisfied: python-json-logger>=2.0.4 in c:\\users\\sorenza_bastiaens\\appdata\\roaming\\python\\python39\\site-packages (from jupyter-events>=0.4.0->jupyter-server>=1.8->nbclassic>=0.4.7->notebook->jupyter->whobpyt==0.0) (2.0.7)\n",
      "Requirement already satisfied: rfc3986-validator>=0.1.1 in c:\\users\\sorenza_bastiaens\\appdata\\roaming\\python\\python39\\site-packages (from jupyter-events>=0.4.0->jupyter-server>=1.8->nbclassic>=0.4.7->notebook->jupyter->whobpyt==0.0) (0.1.1)\n",
      "Requirement already satisfied: rfc3339-validator in c:\\users\\sorenza_bastiaens\\appdata\\roaming\\python\\python39\\site-packages (from jupyter-events>=0.4.0->jupyter-server>=1.8->nbclassic>=0.4.7->notebook->jupyter->whobpyt==0.0) (0.1.4)\n",
      "Requirement already satisfied: uri-template in c:\\users\\sorenza_bastiaens\\anaconda3\\envs\\whobpyt\\lib\\site-packages (from jsonschema>=2.6->nbformat>=4.2.0->ipywidgets->jupyter->whobpyt==0.0) (1.3.0)\n",
      "Requirement already satisfied: webcolors>=1.11 in c:\\users\\sorenza_bastiaens\\anaconda3\\envs\\whobpyt\\lib\\site-packages (from jsonschema>=2.6->nbformat>=4.2.0->ipywidgets->jupyter->whobpyt==0.0) (1.13)\n",
      "Requirement already satisfied: isoduration in c:\\users\\sorenza_bastiaens\\appdata\\roaming\\python\\python39\\site-packages (from jsonschema>=2.6->nbformat>=4.2.0->ipywidgets->jupyter->whobpyt==0.0) (20.11.0)\n",
      "Requirement already satisfied: fqdn in c:\\users\\sorenza_bastiaens\\appdata\\roaming\\python\\python39\\site-packages (from jsonschema>=2.6->nbformat>=4.2.0->ipywidgets->jupyter->whobpyt==0.0) (1.5.1)\n",
      "Requirement already satisfied: jsonpointer>1.13 in c:\\users\\sorenza_bastiaens\\appdata\\roaming\\python\\python39\\site-packages (from jsonschema>=2.6->nbformat>=4.2.0->ipywidgets->jupyter->whobpyt==0.0) (2.3)\n",
      "Requirement already satisfied: pandocfilters>=1.4.1 in c:\\users\\sorenza_bastiaens\\appdata\\roaming\\python\\python39\\site-packages (from nbconvert->jupyter->whobpyt==0.0) (1.5.0)\n",
      "Requirement already satisfied: defusedxml in c:\\users\\sorenza_bastiaens\\appdata\\roaming\\python\\python39\\site-packages (from nbconvert->jupyter->whobpyt==0.0) (0.7.1)\n",
      "Requirement already satisfied: jupyterlab-pygments in c:\\users\\sorenza_bastiaens\\appdata\\roaming\\python\\python39\\site-packages (from nbconvert->jupyter->whobpyt==0.0) (0.2.2)\n",
      "Requirement already satisfied: bleach in c:\\users\\sorenza_bastiaens\\appdata\\roaming\\python\\python39\\site-packages (from nbconvert->jupyter->whobpyt==0.0) (6.0.0)\n",
      "Requirement already satisfied: mistune<3,>=2.0.3 in c:\\users\\sorenza_bastiaens\\anaconda3\\envs\\whobpyt\\lib\\site-packages (from nbconvert->jupyter->whobpyt==0.0) (2.0.5)\n",
      "Requirement already satisfied: tinycss2 in c:\\users\\sorenza_bastiaens\\anaconda3\\envs\\whobpyt\\lib\\site-packages (from nbconvert->jupyter->whobpyt==0.0) (1.1.1)\n",
      "Requirement already satisfied: nbclient>=0.5.0 in c:\\users\\sorenza_bastiaens\\appdata\\roaming\\python\\python39\\site-packages (from nbconvert->jupyter->whobpyt==0.0) (0.7.4)\n",
      "Requirement already satisfied: argon2-cffi-bindings in c:\\users\\sorenza_bastiaens\\appdata\\roaming\\python\\python39\\site-packages (from argon2-cffi->notebook->jupyter->whobpyt==0.0) (21.2.0)\n",
      "Requirement already satisfied: cffi>=1.0.1 in c:\\users\\sorenza_bastiaens\\appdata\\roaming\\python\\python39\\site-packages (from argon2-cffi-bindings->argon2-cffi->notebook->jupyter->whobpyt==0.0) (1.15.1)\n",
      "Requirement already satisfied: pycparser in c:\\users\\sorenza_bastiaens\\appdata\\roaming\\python\\python39\\site-packages (from cffi>=1.0.1->argon2-cffi-bindings->argon2-cffi->notebook->jupyter->whobpyt==0.0) (2.21)\n",
      "Requirement already satisfied: webencodings in c:\\users\\sorenza_bastiaens\\anaconda3\\envs\\whobpyt\\lib\\site-packages (from bleach->nbconvert->jupyter->whobpyt==0.0) (0.5.1)\n",
      "Requirement already satisfied: arrow>=0.15.0 in c:\\users\\sorenza_bastiaens\\appdata\\roaming\\python\\python39\\site-packages (from isoduration->jsonschema>=2.6->nbformat>=4.2.0->ipywidgets->jupyter->whobpyt==0.0) (1.2.3)\n",
      "Requirement already satisfied: pillow>=6.2.0 in c:\\users\\sorenza_bastiaens\\anaconda3\\envs\\whobpyt\\lib\\site-packages (from matplotlib->whobpyt==0.0) (9.1.1)\n",
      "Requirement already satisfied: cycler>=0.10 in c:\\users\\sorenza_bastiaens\\anaconda3\\envs\\whobpyt\\lib\\site-packages (from matplotlib->whobpyt==0.0) (0.11.0)\n",
      "Requirement already satisfied: pyparsing>=2.2.1 in c:\\users\\sorenza_bastiaens\\anaconda3\\envs\\whobpyt\\lib\\site-packages (from matplotlib->whobpyt==0.0) (3.0.9)\n",
      "Requirement already satisfied: fonttools>=4.22.0 in c:\\users\\sorenza_bastiaens\\anaconda3\\envs\\whobpyt\\lib\\site-packages (from matplotlib->whobpyt==0.0) (4.33.3)\n",
      "Requirement already satisfied: kiwisolver>=1.0.1 in c:\\users\\sorenza_bastiaens\\anaconda3\\envs\\whobpyt\\lib\\site-packages (from matplotlib->whobpyt==0.0) (1.4.2)\n",
      "Requirement already satisfied: scipy>=1.1.0 in c:\\users\\sorenza_bastiaens\\anaconda3\\envs\\whobpyt\\lib\\site-packages (from mne->whobpyt==0.0) (1.8.1)\n",
      "Requirement already satisfied: appdirs>=1.3.0 in c:\\users\\sorenza_bastiaens\\anaconda3\\envs\\whobpyt\\lib\\site-packages (from pooch->whobpyt==0.0) (1.4.4)\n",
      "Requirement already satisfied: tomli>=1.1.0 in c:\\users\\sorenza_bastiaens\\anaconda3\\envs\\whobpyt\\lib\\site-packages (from mypy->whobpyt==0.0) (2.0.1)\n",
      "Requirement already satisfied: typing-extensions>=3.10 in c:\\users\\sorenza_bastiaens\\anaconda3\\envs\\whobpyt\\lib\\site-packages (from mypy->whobpyt==0.0) (4.2.0)\n",
      "Requirement already satisfied: mypy-extensions>=0.4.3 in c:\\users\\sorenza_bastiaens\\anaconda3\\envs\\whobpyt\\lib\\site-packages (from mypy->whobpyt==0.0) (0.4.3)\n",
      "Requirement already satisfied: coverage in c:\\users\\sorenza_bastiaens\\anaconda3\\envs\\whobpyt\\lib\\site-packages (from nbval->whobpyt==0.0) (6.4)\n",
      "Requirement already satisfied: iniconfig in c:\\users\\sorenza_bastiaens\\anaconda3\\envs\\whobpyt\\lib\\site-packages (from pytest->whobpyt==0.0) (1.1.1)\n",
      "Requirement already satisfied: pluggy<2.0,>=0.12 in c:\\users\\sorenza_bastiaens\\anaconda3\\envs\\whobpyt\\lib\\site-packages (from pytest->whobpyt==0.0) (1.0.0)\n",
      "Requirement already satisfied: py>=1.8.2 in c:\\users\\sorenza_bastiaens\\anaconda3\\envs\\whobpyt\\lib\\site-packages (from pytest->whobpyt==0.0) (1.11.0)\n",
      "Requirement already satisfied: atomicwrites>=1.0 in c:\\users\\sorenza_bastiaens\\anaconda3\\envs\\whobpyt\\lib\\site-packages (from pytest->whobpyt==0.0) (1.4.0)\n",
      "Requirement already satisfied: qtpy>=2.0.1 in c:\\users\\sorenza_bastiaens\\anaconda3\\envs\\whobpyt\\lib\\site-packages (from qtconsole->jupyter->whobpyt==0.0) (2.1.0)\n",
      "Requirement already satisfied: PySocks!=1.5.7,>=1.5.6 in c:\\users\\sorenza_bastiaens\\anaconda3\\envs\\whobpyt\\lib\\site-packages (from requests>=2.5.0->sphinx->whobpyt==0.0) (1.7.1)\n",
      "Requirement already satisfied: threadpoolctl>=2.0.0 in c:\\users\\sorenza_bastiaens\\anaconda3\\envs\\whobpyt\\lib\\site-packages (from scikit-learn->whobpyt==0.0) (3.1.0)\n",
      "Requirement already satisfied: joblib>=1.0.0 in c:\\users\\sorenza_bastiaens\\anaconda3\\envs\\whobpyt\\lib\\site-packages (from scikit-learn->whobpyt==0.0) (1.1.0)\n",
      "Requirement already satisfied: asttokens in c:\\users\\sorenza_bastiaens\\anaconda3\\envs\\whobpyt\\lib\\site-packages (from stack-data->ipython>=7.23.1->ipykernel->whobpyt==0.0) (2.0.5)\n",
      "Requirement already satisfied: executing in c:\\users\\sorenza_bastiaens\\anaconda3\\envs\\whobpyt\\lib\\site-packages (from stack-data->ipython>=7.23.1->ipykernel->whobpyt==0.0) (0.8.3)\n",
      "Requirement already satisfied: pure-eval in c:\\users\\sorenza_bastiaens\\anaconda3\\envs\\whobpyt\\lib\\site-packages (from stack-data->ipython>=7.23.1->ipykernel->whobpyt==0.0) (0.2.2)\n",
      "Requirement already satisfied: types-urllib3<1.27 in c:\\users\\sorenza_bastiaens\\anaconda3\\envs\\whobpyt\\lib\\site-packages (from types-requests->whobpyt==0.0) (1.26.15)\n",
      "Installing collected packages: jinja2, whobpyt\n",
      "  Attempting uninstall: jinja2\n",
      "    Found existing installation: Jinja2 3.1.2\n",
      "    Uninstalling Jinja2-3.1.2:\n",
      "      Successfully uninstalled Jinja2-3.1.2\n",
      "  Attempting uninstall: whobpyt\n",
      "    Found existing installation: whobpyt 0.0\n",
      "    Uninstalling whobpyt-0.0:\n",
      "      Successfully uninstalled whobpyt-0.0\n",
      "  Running setup.py develop for whobpyt\n",
      "Successfully installed jinja2-3.0.3 whobpyt\n",
      "Note: you may need to restart the kernel to use updated packages.\n"
     ]
    },
    {
     "name": "stderr",
     "output_type": "stream",
     "text": [
      "ERROR: pip's dependency resolver does not currently take into account all the packages that are installed. This behaviour is the source of the following dependency conflicts.\n",
      "flask 2.3.1 requires Werkzeug>=2.3.0, which is not installed.\n",
      "flask-restx 1.1.0 requires aniso8601>=0.82, which is not installed.\n",
      "flask-restx 1.1.0 requires werkzeug!=2.0.0, which is not installed.\n",
      "flask 2.3.1 requires Jinja2>=3.1.2, but you have jinja2 3.0.3 which is incompatible.\n"
     ]
    }
   ],
   "source": [
    "pip install -e ."
   ]
  },
  {
   "cell_type": "code",
   "execution_count": 62,
   "id": "afb9b007",
   "metadata": {},
   "outputs": [
    {
     "name": "stdout",
     "output_type": "stream",
     "text": [
      "Requirement already satisfied: jinja2 in c:\\users\\sorenza_bastiaens\\anaconda3\\envs\\whobpyt\\lib\\site-packages (3.0.3)\n",
      "Requirement already satisfied: MarkupSafe>=2.0 in c:\\users\\sorenza_bastiaens\\anaconda3\\envs\\whobpyt\\lib\\site-packages (from jinja2) (2.1.1)\n",
      "Note: you may need to restart the kernel to use updated packages.\n"
     ]
    }
   ],
   "source": [
    "pip install jinja2"
   ]
  },
  {
   "cell_type": "code",
   "execution_count": null,
   "id": "34f1228b",
   "metadata": {},
   "outputs": [],
   "source": []
  }
 ],
 "metadata": {
  "kernelspec": {
   "display_name": "whobpyt",
   "language": "python",
   "name": "whobpyt"
  },
  "language_info": {
   "codemirror_mode": {
    "name": "ipython",
    "version": 3
   },
   "file_extension": ".py",
   "mimetype": "text/x-python",
   "name": "python",
   "nbconvert_exporter": "python",
   "pygments_lexer": "ipython3",
   "version": "3.9.12"
  }
 },
 "nbformat": 4,
 "nbformat_minor": 5
}
